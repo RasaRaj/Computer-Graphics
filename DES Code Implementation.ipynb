{
  "cells": [
    {
      "cell_type": "markdown",
      "metadata": {
        "id": "view-in-github",
        "colab_type": "text"
      },
      "source": [
        "<a href=\"https://colab.research.google.com/github/RasaRaj/Computer-Security/blob/main/DES%20Code%20Implementation.ipynb\" target=\"_parent\"><img src=\"https://colab.research.google.com/assets/colab-badge.svg\" alt=\"Open In Colab\"/></a>"
      ]
    },
    {
      "cell_type": "code",
      "source": [
        "!pip install pycryptodome\n",
        "!pip install crypto"
      ],
      "metadata": {
        "colab": {
          "base_uri": "https://localhost:8080/"
        },
        "id": "55gDNT7LfI6n",
        "outputId": "b55a1c96-8880-4706-e2f2-0584c98226ba"
      },
      "execution_count": 13,
      "outputs": [
        {
          "output_type": "stream",
          "name": "stdout",
          "text": [
            "Looking in indexes: https://pypi.org/simple, https://us-python.pkg.dev/colab-wheels/public/simple/\n",
            "Collecting pycryptodome\n",
            "  Downloading pycryptodome-3.17-cp35-abi3-manylinux_2_17_x86_64.manylinux2014_x86_64.whl (2.1 MB)\n",
            "\u001b[2K     \u001b[90m━━━━━━━━━━━━━━━━━━━━━━━━━━━━━━━━━━━━━━━━\u001b[0m \u001b[32m2.1/2.1 MB\u001b[0m \u001b[31m19.6 MB/s\u001b[0m eta \u001b[36m0:00:00\u001b[0m\n",
            "\u001b[?25hInstalling collected packages: pycryptodome\n",
            "Successfully installed pycryptodome-3.17\n",
            "Looking in indexes: https://pypi.org/simple, https://us-python.pkg.dev/colab-wheels/public/simple/\n",
            "Collecting crypto\n",
            "  Downloading crypto-1.4.1-py2.py3-none-any.whl (18 kB)\n",
            "Collecting shellescape\n",
            "  Downloading shellescape-3.8.1-py2.py3-none-any.whl (3.1 kB)\n",
            "Collecting Naked\n",
            "  Downloading Naked-0.1.32-py2.py3-none-any.whl (587 kB)\n",
            "\u001b[2K     \u001b[90m━━━━━━━━━━━━━━━━━━━━━━━━━━━━━━━━━━━━━━━\u001b[0m \u001b[32m587.7/587.7 kB\u001b[0m \u001b[31m9.6 MB/s\u001b[0m eta \u001b[36m0:00:00\u001b[0m\n",
            "\u001b[?25hRequirement already satisfied: pyyaml in /usr/local/lib/python3.10/dist-packages (from Naked->crypto) (6.0)\n",
            "Requirement already satisfied: requests in /usr/local/lib/python3.10/dist-packages (from Naked->crypto) (2.27.1)\n",
            "Requirement already satisfied: certifi>=2017.4.17 in /usr/local/lib/python3.10/dist-packages (from requests->Naked->crypto) (2022.12.7)\n",
            "Requirement already satisfied: charset-normalizer~=2.0.0 in /usr/local/lib/python3.10/dist-packages (from requests->Naked->crypto) (2.0.12)\n",
            "Requirement already satisfied: idna<4,>=2.5 in /usr/local/lib/python3.10/dist-packages (from requests->Naked->crypto) (3.4)\n",
            "Requirement already satisfied: urllib3<1.27,>=1.21.1 in /usr/local/lib/python3.10/dist-packages (from requests->Naked->crypto) (1.26.15)\n",
            "Installing collected packages: shellescape, Naked, crypto\n",
            "Successfully installed Naked-0.1.32 crypto-1.4.1 shellescape-3.8.1\n"
          ]
        }
      ]
    },
    {
      "cell_type": "code",
      "source": [
        "from Crypto.Cipher import DES\n",
        "from secrets import token_bytes\n",
        "\n",
        "def get_key():\n",
        "  key = token_bytes(8)\n",
        "  print(f\"key is{key} \")\n",
        "  return key"
      ],
      "metadata": {
        "id": "pd3h9XomfbyY"
      },
      "execution_count": 17,
      "outputs": []
    },
    {
      "cell_type": "code",
      "source": [
        "def encrypt(mas, key):\n",
        "  cipher = DES.new(key,DES.MODE_EAX)\n",
        "  nonce = cipher.nonce\n",
        "  cipher_text,tag = cipher.encrypt_and_digest(mas.encode('ascii'))\n",
        "  return cipher_text,tag,nonce\n",
        "\n",
        "mas = input(\"Enter your massage: \")\n",
        "key = get_key()\n",
        "ct,tg,nc = encrypt(mas, key)\n",
        "print(f\"Plain Text: {mas} \\nCipher Text: {ct}\")"
      ],
      "metadata": {
        "colab": {
          "base_uri": "https://localhost:8080/"
        },
        "id": "oIOAFUlNjlzn",
        "outputId": "e906a51f-d6a8-4a8d-a77e-5cdbe8e4364a"
      },
      "execution_count": 18,
      "outputs": [
        {
          "output_type": "stream",
          "name": "stdout",
          "text": [
            "Enter your massage: Rasa\n",
            "key isb'ED\\x1d\\xaeb]*\\xea' \n",
            "Plain Text: Rasa \n",
            "Cipher Text: b'\\xc8^C\\xde'\n"
          ]
        }
      ]
    },
    {
      "cell_type": "code",
      "source": [
        "def decrypt(ct,key,nonce,tag):\n",
        "  cipher = DES.new(key,DES.MODE_EAX,nonce=nonce)\n",
        "  plain_text = cipher.decrypt(ct)\n",
        "  return plain_text\n",
        "\n",
        "plain_text =decrypt(ct,key,nc,tg)\n",
        "print(\"Main text is: \",plain_text)"
      ],
      "metadata": {
        "colab": {
          "base_uri": "https://localhost:8080/"
        },
        "id": "mDT8IdBKmM3O",
        "outputId": "330acdac-5d8d-4ef5-fff7-a94c47eeadcd"
      },
      "execution_count": 19,
      "outputs": [
        {
          "output_type": "stream",
          "name": "stdout",
          "text": [
            "Main text is:  b'Rasa'\n"
          ]
        }
      ]
    }
  ],
  "metadata": {
    "colab": {
      "name": "Welcome to Colaboratory",
      "toc_visible": true,
      "provenance": [],
      "include_colab_link": true
    },
    "kernelspec": {
      "display_name": "Python 3",
      "name": "python3"
    }
  },
  "nbformat": 4,
  "nbformat_minor": 0
}