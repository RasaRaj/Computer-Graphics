{
  "cells": [
    {
      "cell_type": "markdown",
      "metadata": {
        "id": "view-in-github",
        "colab_type": "text"
      },
      "source": [
        "<a href=\"https://colab.research.google.com/github/RasaRaj/Computer-Security/blob/main/RSA%20code%20Implementation.ipynb\" target=\"_parent\"><img src=\"https://colab.research.google.com/assets/colab-badge.svg\" alt=\"Open In Colab\"/></a>"
      ]
    },
    {
      "cell_type": "code",
      "source": [
        "import math\n",
        "\n",
        "def finding_value(p,q):\n",
        "    n = \"\"\n",
        "    d_n = \"\"\n",
        "    n = p * q\n",
        "    d_n = ((p-1)*(q-1))\n",
        "\n",
        "    return n, d_n"
      ],
      "metadata": {
        "id": "55gDNT7LfI6n"
      },
      "execution_count": 1,
      "outputs": []
    },
    {
      "cell_type": "code",
      "source": [
        "p = int(input(\"Enter Your 1st prime number: \"))\n",
        "q = int(input(\"Enter Your 2nd prome number: \"))"
      ],
      "metadata": {
        "id": "pd3h9XomfbyY",
        "outputId": "8a6ebe38-cc3f-4342-f4a6-76e587e7e7db",
        "colab": {
          "base_uri": "https://localhost:8080/"
        }
      },
      "execution_count": 2,
      "outputs": [
        {
          "name": "stdout",
          "output_type": "stream",
          "text": [
            "Enter Your 1st prime number: 5\n",
            "Enter Your 2nd prome number: 13\n"
          ]
        }
      ]
    },
    {
      "cell_type": "code",
      "source": [
        "n, phi_n = finding_value(p,q)\n",
        "print (\"The value of n is: \",n)\n",
        "print(\"The value of φ(n) is: \",phi_n)"
      ],
      "metadata": {
        "id": "oIOAFUlNjlzn",
        "outputId": "e96a28f0-5960-4a55-d7eb-a15fac7c0da8",
        "colab": {
          "base_uri": "https://localhost:8080/"
        }
      },
      "execution_count": 3,
      "outputs": [
        {
          "output_type": "stream",
          "name": "stdout",
          "text": [
            "The value of n is:  65\n",
            "The value of φ(n) is:  48\n"
          ]
        }
      ]
    },
    {
      "cell_type": "code",
      "source": [
        "\n",
        "def key(e):\n",
        "  while(e < int (phi_n)):\n",
        "    if (math.gcd(e, phi_n) == 1):\n",
        "        break\n",
        "    else:\n",
        "        e += 1\n",
        "  return e"
      ],
      "metadata": {
        "id": "mDT8IdBKmM3O"
      },
      "execution_count": 4,
      "outputs": []
    },
    {
      "cell_type": "code",
      "source": [
        "e = 2\n",
        "\n",
        "e = key(e)\n",
        "\n",
        "print(\"the k1 is: \",e,n)"
      ],
      "metadata": {
        "id": "97_un899mqQZ",
        "outputId": "44c291cf-82ec-4755-8ecd-6423016d9ec6",
        "colab": {
          "base_uri": "https://localhost:8080/"
        }
      },
      "execution_count": 5,
      "outputs": [
        {
          "output_type": "stream",
          "name": "stdout",
          "text": [
            "the k1 is:  5 65\n"
          ]
        }
      ]
    },
    {
      "cell_type": "code",
      "source": [
        "d = None\n",
        "for k in range (100):\n",
        "    d = ((1 + k *phi_n) // e)\n",
        "\n",
        "    if d == ((1 + k *phi_n) / e):\n",
        "      print(\"Your private key is: \",d , n)\n",
        "      break"
      ],
      "metadata": {
        "id": "2cOpDg9NnYSx",
        "outputId": "4ac0de7d-8173-4462-9710-b91de61b5130",
        "colab": {
          "base_uri": "https://localhost:8080/"
        }
      },
      "execution_count": 6,
      "outputs": [
        {
          "output_type": "stream",
          "name": "stdout",
          "text": [
            "Your private key is:  29 65\n"
          ]
        }
      ]
    },
    {
      "cell_type": "code",
      "source": [
        "def encryption(m,e,n):\n",
        "  c = None\n",
        "\n",
        "  c = pow(m,e)\n",
        "  c = math.fmod(c,n)\n",
        "\n",
        "  return c\n",
        "\n",
        "def decryption(c,d,n):\n",
        "  m = None\n",
        "\n",
        "  m = pow(c,d)\n",
        "  m = math.fmod(m,n)\n",
        "  \n",
        "  return m "
      ],
      "metadata": {
        "id": "m7OdPhk0ng7p"
      },
      "execution_count": 7,
      "outputs": []
    },
    {
      "cell_type": "code",
      "source": [
        "m = int(input(\"Write your massage: \"))\n",
        "\n",
        "encrypt = encryption(m,e,n)\n",
        "print(\"The encrypted massage is: \",encrypt)\n",
        "\n",
        "decrypt = decryption(encrypt,d,n)\n",
        "print(\"Your main massage is: \", decrypt)"
      ],
      "metadata": {
        "id": "FJXtfLXMnlsW",
        "outputId": "5d5dc0be-a088-44dd-dea8-8c9835aff932",
        "colab": {
          "base_uri": "https://localhost:8080/"
        }
      },
      "execution_count": 12,
      "outputs": [
        {
          "output_type": "stream",
          "name": "stdout",
          "text": [
            "Write your massage: 3\n",
            "The encrypted massage is:  48.0\n",
            "Your main massage is:  3.0\n"
          ]
        }
      ]
    }
  ],
  "metadata": {
    "colab": {
      "name": "Welcome to Colaboratory",
      "toc_visible": true,
      "provenance": [],
      "include_colab_link": true
    },
    "kernelspec": {
      "display_name": "Python 3",
      "name": "python3"
    }
  },
  "nbformat": 4,
  "nbformat_minor": 0
}